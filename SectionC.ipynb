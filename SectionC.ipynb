{
 "cells": [
  {
   "cell_type": "markdown",
   "metadata": {},
   "source": [
    "# Section C (KNN Classification)"
   ]
  },
  {
   "cell_type": "markdown",
   "metadata": {},
   "source": [
    "## Dataset\n",
    "This dataset is about 11 clinical features for predicting heart disease events, from Kaggle [Heart Failure Prediction Dataset](https://www.kaggle.com/fedesoriano/heart-failure-prediction/)"
   ]
  },
  {
   "cell_type": "code",
   "execution_count": 162,
   "metadata": {},
   "outputs": [],
   "source": [
    "import pandas as pd\n",
    "df = pd.read_csv(\"heart.csv\", sep = ',')"
   ]
  },
  {
   "cell_type": "markdown",
   "metadata": {},
   "source": [
    "The dataset has 918 observations and 12 features (11 independent features and 1 dependent feature)"
   ]
  },
  {
   "cell_type": "code",
   "execution_count": 163,
   "metadata": {},
   "outputs": [
    {
     "name": "stdout",
     "output_type": "stream",
     "text": [
      "<class 'pandas.core.frame.DataFrame'>\n",
      "RangeIndex: 918 entries, 0 to 917\n",
      "Data columns (total 12 columns):\n",
      " #   Column          Non-Null Count  Dtype  \n",
      "---  ------          --------------  -----  \n",
      " 0   Age             918 non-null    int64  \n",
      " 1   Sex             918 non-null    object \n",
      " 2   ChestPainType   918 non-null    object \n",
      " 3   RestingBP       918 non-null    int64  \n",
      " 4   Cholesterol     918 non-null    int64  \n",
      " 5   FastingBS       918 non-null    int64  \n",
      " 6   RestingECG      918 non-null    object \n",
      " 7   MaxHR           918 non-null    int64  \n",
      " 8   ExerciseAngina  918 non-null    object \n",
      " 9   Oldpeak         918 non-null    float64\n",
      " 10  ST_Slope        918 non-null    object \n",
      " 11  HeartDisease    918 non-null    int64  \n",
      "dtypes: float64(1), int64(6), object(5)\n",
      "memory usage: 86.2+ KB\n"
     ]
    }
   ],
   "source": [
    "df.info()"
   ]
  },
  {
   "cell_type": "markdown",
   "metadata": {},
   "source": [
    "There are no missing values in these dataset."
   ]
  },
  {
   "cell_type": "code",
   "execution_count": 164,
   "metadata": {},
   "outputs": [
    {
     "name": "stdout",
     "output_type": "stream",
     "text": [
      "Age               0\n",
      "Sex               0\n",
      "ChestPainType     0\n",
      "RestingBP         0\n",
      "Cholesterol       0\n",
      "FastingBS         0\n",
      "RestingECG        0\n",
      "MaxHR             0\n",
      "ExerciseAngina    0\n",
      "Oldpeak           0\n",
      "ST_Slope          0\n",
      "HeartDisease      0\n",
      "dtype: int64\n"
     ]
    }
   ],
   "source": [
    "print(df.isnull().sum())"
   ]
  },
  {
   "cell_type": "markdown",
   "metadata": {},
   "source": [
    "The target class distribution is relatively balanced."
   ]
  },
  {
   "cell_type": "code",
   "execution_count": 165,
   "metadata": {},
   "outputs": [
    {
     "data": {
      "text/plain": [
       "1    0.553377\n",
       "0    0.446623\n",
       "Name: HeartDisease, dtype: float64"
      ]
     },
     "execution_count": 165,
     "metadata": {},
     "output_type": "execute_result"
    }
   ],
   "source": [
    "df.iloc[:,-1].value_counts()/len(df.iloc[:,-1])"
   ]
  },
  {
   "cell_type": "markdown",
   "metadata": {},
   "source": [
    "Split the dataset into Feature vectors (X) and labels (y)"
   ]
  },
  {
   "cell_type": "code",
   "execution_count": 166,
   "metadata": {},
   "outputs": [
    {
     "data": {
      "text/html": [
       "<div>\n",
       "<style scoped>\n",
       "    .dataframe tbody tr th:only-of-type {\n",
       "        vertical-align: middle;\n",
       "    }\n",
       "\n",
       "    .dataframe tbody tr th {\n",
       "        vertical-align: top;\n",
       "    }\n",
       "\n",
       "    .dataframe thead th {\n",
       "        text-align: right;\n",
       "    }\n",
       "</style>\n",
       "<table border=\"1\" class=\"dataframe\">\n",
       "  <thead>\n",
       "    <tr style=\"text-align: right;\">\n",
       "      <th></th>\n",
       "      <th>count</th>\n",
       "      <th>mean</th>\n",
       "      <th>std</th>\n",
       "      <th>min</th>\n",
       "      <th>25%</th>\n",
       "      <th>50%</th>\n",
       "      <th>75%</th>\n",
       "      <th>max</th>\n",
       "    </tr>\n",
       "  </thead>\n",
       "  <tbody>\n",
       "    <tr>\n",
       "      <th>Age</th>\n",
       "      <td>918.0</td>\n",
       "      <td>53.510893</td>\n",
       "      <td>9.432617</td>\n",
       "      <td>28.0</td>\n",
       "      <td>47.00</td>\n",
       "      <td>54.0</td>\n",
       "      <td>60.0</td>\n",
       "      <td>77.0</td>\n",
       "    </tr>\n",
       "    <tr>\n",
       "      <th>RestingBP</th>\n",
       "      <td>918.0</td>\n",
       "      <td>132.396514</td>\n",
       "      <td>18.514154</td>\n",
       "      <td>0.0</td>\n",
       "      <td>120.00</td>\n",
       "      <td>130.0</td>\n",
       "      <td>140.0</td>\n",
       "      <td>200.0</td>\n",
       "    </tr>\n",
       "    <tr>\n",
       "      <th>Cholesterol</th>\n",
       "      <td>918.0</td>\n",
       "      <td>198.799564</td>\n",
       "      <td>109.384145</td>\n",
       "      <td>0.0</td>\n",
       "      <td>173.25</td>\n",
       "      <td>223.0</td>\n",
       "      <td>267.0</td>\n",
       "      <td>603.0</td>\n",
       "    </tr>\n",
       "    <tr>\n",
       "      <th>FastingBS</th>\n",
       "      <td>918.0</td>\n",
       "      <td>0.233115</td>\n",
       "      <td>0.423046</td>\n",
       "      <td>0.0</td>\n",
       "      <td>0.00</td>\n",
       "      <td>0.0</td>\n",
       "      <td>0.0</td>\n",
       "      <td>1.0</td>\n",
       "    </tr>\n",
       "    <tr>\n",
       "      <th>MaxHR</th>\n",
       "      <td>918.0</td>\n",
       "      <td>136.809368</td>\n",
       "      <td>25.460334</td>\n",
       "      <td>60.0</td>\n",
       "      <td>120.00</td>\n",
       "      <td>138.0</td>\n",
       "      <td>156.0</td>\n",
       "      <td>202.0</td>\n",
       "    </tr>\n",
       "    <tr>\n",
       "      <th>Oldpeak</th>\n",
       "      <td>918.0</td>\n",
       "      <td>0.887364</td>\n",
       "      <td>1.066570</td>\n",
       "      <td>-2.6</td>\n",
       "      <td>0.00</td>\n",
       "      <td>0.6</td>\n",
       "      <td>1.5</td>\n",
       "      <td>6.2</td>\n",
       "    </tr>\n",
       "    <tr>\n",
       "      <th>HeartDisease</th>\n",
       "      <td>918.0</td>\n",
       "      <td>0.553377</td>\n",
       "      <td>0.497414</td>\n",
       "      <td>0.0</td>\n",
       "      <td>0.00</td>\n",
       "      <td>1.0</td>\n",
       "      <td>1.0</td>\n",
       "      <td>1.0</td>\n",
       "    </tr>\n",
       "  </tbody>\n",
       "</table>\n",
       "</div>"
      ],
      "text/plain": [
       "              count        mean         std   min     25%    50%    75%    max\n",
       "Age           918.0   53.510893    9.432617  28.0   47.00   54.0   60.0   77.0\n",
       "RestingBP     918.0  132.396514   18.514154   0.0  120.00  130.0  140.0  200.0\n",
       "Cholesterol   918.0  198.799564  109.384145   0.0  173.25  223.0  267.0  603.0\n",
       "FastingBS     918.0    0.233115    0.423046   0.0    0.00    0.0    0.0    1.0\n",
       "MaxHR         918.0  136.809368   25.460334  60.0  120.00  138.0  156.0  202.0\n",
       "Oldpeak       918.0    0.887364    1.066570  -2.6    0.00    0.6    1.5    6.2\n",
       "HeartDisease  918.0    0.553377    0.497414   0.0    0.00    1.0    1.0    1.0"
      ]
     },
     "execution_count": 166,
     "metadata": {},
     "output_type": "execute_result"
    }
   ],
   "source": [
    "df.describe().T"
   ]
  },
  {
   "cell_type": "code",
   "execution_count": 167,
   "metadata": {},
   "outputs": [],
   "source": [
    "X = df.iloc[:,:-1]\n",
    "y = df.iloc[:,-1]"
   ]
  },
  {
   "cell_type": "markdown",
   "metadata": {},
   "source": [
    "### Convert categorical values\n",
    "\n",
    "The dataset contains categorical variables like *ChestPainType*, since machine learning algorithms cannot work with categorical data directly, I use `get_dummies` function to convert the categorical values into numeric values by using one-hot code."
   ]
  },
  {
   "cell_type": "code",
   "execution_count": 168,
   "metadata": {},
   "outputs": [
    {
     "data": {
      "text/html": [
       "<div>\n",
       "<style scoped>\n",
       "    .dataframe tbody tr th:only-of-type {\n",
       "        vertical-align: middle;\n",
       "    }\n",
       "\n",
       "    .dataframe tbody tr th {\n",
       "        vertical-align: top;\n",
       "    }\n",
       "\n",
       "    .dataframe thead th {\n",
       "        text-align: right;\n",
       "    }\n",
       "</style>\n",
       "<table border=\"1\" class=\"dataframe\">\n",
       "  <thead>\n",
       "    <tr style=\"text-align: right;\">\n",
       "      <th></th>\n",
       "      <th>Age</th>\n",
       "      <th>RestingBP</th>\n",
       "      <th>Cholesterol</th>\n",
       "      <th>FastingBS</th>\n",
       "      <th>MaxHR</th>\n",
       "      <th>Oldpeak</th>\n",
       "      <th>Sex_F</th>\n",
       "      <th>Sex_M</th>\n",
       "      <th>ChestPainType_ASY</th>\n",
       "      <th>ChestPainType_ATA</th>\n",
       "      <th>ChestPainType_NAP</th>\n",
       "      <th>ChestPainType_TA</th>\n",
       "      <th>RestingECG_LVH</th>\n",
       "      <th>RestingECG_Normal</th>\n",
       "      <th>RestingECG_ST</th>\n",
       "      <th>ExerciseAngina_N</th>\n",
       "      <th>ExerciseAngina_Y</th>\n",
       "      <th>ST_Slope_Down</th>\n",
       "      <th>ST_Slope_Flat</th>\n",
       "      <th>ST_Slope_Up</th>\n",
       "    </tr>\n",
       "  </thead>\n",
       "  <tbody>\n",
       "    <tr>\n",
       "      <th>0</th>\n",
       "      <td>40</td>\n",
       "      <td>140</td>\n",
       "      <td>289</td>\n",
       "      <td>0</td>\n",
       "      <td>172</td>\n",
       "      <td>0.0</td>\n",
       "      <td>0</td>\n",
       "      <td>1</td>\n",
       "      <td>0</td>\n",
       "      <td>1</td>\n",
       "      <td>0</td>\n",
       "      <td>0</td>\n",
       "      <td>0</td>\n",
       "      <td>1</td>\n",
       "      <td>0</td>\n",
       "      <td>1</td>\n",
       "      <td>0</td>\n",
       "      <td>0</td>\n",
       "      <td>0</td>\n",
       "      <td>1</td>\n",
       "    </tr>\n",
       "    <tr>\n",
       "      <th>1</th>\n",
       "      <td>49</td>\n",
       "      <td>160</td>\n",
       "      <td>180</td>\n",
       "      <td>0</td>\n",
       "      <td>156</td>\n",
       "      <td>1.0</td>\n",
       "      <td>1</td>\n",
       "      <td>0</td>\n",
       "      <td>0</td>\n",
       "      <td>0</td>\n",
       "      <td>1</td>\n",
       "      <td>0</td>\n",
       "      <td>0</td>\n",
       "      <td>1</td>\n",
       "      <td>0</td>\n",
       "      <td>1</td>\n",
       "      <td>0</td>\n",
       "      <td>0</td>\n",
       "      <td>1</td>\n",
       "      <td>0</td>\n",
       "    </tr>\n",
       "    <tr>\n",
       "      <th>2</th>\n",
       "      <td>37</td>\n",
       "      <td>130</td>\n",
       "      <td>283</td>\n",
       "      <td>0</td>\n",
       "      <td>98</td>\n",
       "      <td>0.0</td>\n",
       "      <td>0</td>\n",
       "      <td>1</td>\n",
       "      <td>0</td>\n",
       "      <td>1</td>\n",
       "      <td>0</td>\n",
       "      <td>0</td>\n",
       "      <td>0</td>\n",
       "      <td>0</td>\n",
       "      <td>1</td>\n",
       "      <td>1</td>\n",
       "      <td>0</td>\n",
       "      <td>0</td>\n",
       "      <td>0</td>\n",
       "      <td>1</td>\n",
       "    </tr>\n",
       "    <tr>\n",
       "      <th>3</th>\n",
       "      <td>48</td>\n",
       "      <td>138</td>\n",
       "      <td>214</td>\n",
       "      <td>0</td>\n",
       "      <td>108</td>\n",
       "      <td>1.5</td>\n",
       "      <td>1</td>\n",
       "      <td>0</td>\n",
       "      <td>1</td>\n",
       "      <td>0</td>\n",
       "      <td>0</td>\n",
       "      <td>0</td>\n",
       "      <td>0</td>\n",
       "      <td>1</td>\n",
       "      <td>0</td>\n",
       "      <td>0</td>\n",
       "      <td>1</td>\n",
       "      <td>0</td>\n",
       "      <td>1</td>\n",
       "      <td>0</td>\n",
       "    </tr>\n",
       "    <tr>\n",
       "      <th>4</th>\n",
       "      <td>54</td>\n",
       "      <td>150</td>\n",
       "      <td>195</td>\n",
       "      <td>0</td>\n",
       "      <td>122</td>\n",
       "      <td>0.0</td>\n",
       "      <td>0</td>\n",
       "      <td>1</td>\n",
       "      <td>0</td>\n",
       "      <td>0</td>\n",
       "      <td>1</td>\n",
       "      <td>0</td>\n",
       "      <td>0</td>\n",
       "      <td>1</td>\n",
       "      <td>0</td>\n",
       "      <td>1</td>\n",
       "      <td>0</td>\n",
       "      <td>0</td>\n",
       "      <td>0</td>\n",
       "      <td>1</td>\n",
       "    </tr>\n",
       "  </tbody>\n",
       "</table>\n",
       "</div>"
      ],
      "text/plain": [
       "   Age  RestingBP  Cholesterol  FastingBS  MaxHR  Oldpeak  Sex_F  Sex_M  \\\n",
       "0   40        140          289          0    172      0.0      0      1   \n",
       "1   49        160          180          0    156      1.0      1      0   \n",
       "2   37        130          283          0     98      0.0      0      1   \n",
       "3   48        138          214          0    108      1.5      1      0   \n",
       "4   54        150          195          0    122      0.0      0      1   \n",
       "\n",
       "   ChestPainType_ASY  ChestPainType_ATA  ChestPainType_NAP  ChestPainType_TA  \\\n",
       "0                  0                  1                  0                 0   \n",
       "1                  0                  0                  1                 0   \n",
       "2                  0                  1                  0                 0   \n",
       "3                  1                  0                  0                 0   \n",
       "4                  0                  0                  1                 0   \n",
       "\n",
       "   RestingECG_LVH  RestingECG_Normal  RestingECG_ST  ExerciseAngina_N  \\\n",
       "0               0                  1              0                 1   \n",
       "1               0                  1              0                 1   \n",
       "2               0                  0              1                 1   \n",
       "3               0                  1              0                 0   \n",
       "4               0                  1              0                 1   \n",
       "\n",
       "   ExerciseAngina_Y  ST_Slope_Down  ST_Slope_Flat  ST_Slope_Up  \n",
       "0                 0              0              0            1  \n",
       "1                 0              0              1            0  \n",
       "2                 0              0              0            1  \n",
       "3                 1              0              1            0  \n",
       "4                 0              0              0            1  "
      ]
     },
     "execution_count": 168,
     "metadata": {},
     "output_type": "execute_result"
    }
   ],
   "source": [
    "# Applying One hot Encoding on the Categorical columns\n",
    "X=pd.get_dummies(X)\n",
    "pd.DataFrame(X).head()"
   ]
  },
  {
   "cell_type": "markdown",
   "metadata": {},
   "source": [
    "### Split dataset \n",
    "I split dataset into train dataset, validation dataset, and test dataset in the ratio 8:1:1. \n",
    "\n",
    "- Train dataset: Train dataset is used to fit the parameters to the model, or 'finding nearest neighbors'\n",
    "\n",
    "- Validation dataset: Validation dataset is used to assess the model's performance and avoid overfitting (the model is really good at classifying the samples in the training dataset but cannot generalize and make accurate classifications on the unseen data), it helps us tune the model's hyperparameters, so we can improve the model according to the results on validation.\n",
    "\n",
    "- Test dataset: Test dataset is used to assess the performance of the final chosen model."
   ]
  },
  {
   "cell_type": "code",
   "execution_count": 169,
   "metadata": {},
   "outputs": [],
   "source": [
    "from sklearn.model_selection import train_test_split\n",
    "# Training dataset 80%, validation dataset 10%, test dataset 10%\n",
    "# Split heart disease dataset into a remaining dataset and a test dataset,\n",
    "# and split the remaining dataset into a training dataset and a validation dataset, use 'random_state' for data reproducibility.\n",
    "X_remain, X_test, y_remain, y_test = train_test_split(X, y, test_size = 0.1, random_state = 0)\n",
    "X_train, X_validation, y_train, y_validation = train_test_split(X_remain, y_remain, test_size = 1/9,random_state = 0)"
   ]
  },
  {
   "cell_type": "markdown",
   "metadata": {},
   "source": [
    "## Question 1: Explore the proportions of train and validation datasets\n",
    "Explore how the performance of KNN model varies on both the train and the validation data change as I vary the amount of training data used."
   ]
  },
  {
   "cell_type": "markdown",
   "metadata": {},
   "source": [
    "### Change the proportion of the validation dataset\n",
    "I define a function called `explore_proportion` to change the proportion of the validation dataset and try different values (11%, 18%, 24%, 31%, 38%, 44%) to split the train dataset and validation dataset.First, I set the hyperparameter k of the KNN model to 5. Then, I fit the model with the train dataset. Finally, I evaluated the performance of the KNN model based on the 'accuracy scores' on the train and validation datasets. For different divisions of the training and validation datasets, I repeat these steps above and plot a line graph to describe the trend."
   ]
  },
  {
   "cell_type": "code",
   "execution_count": 170,
   "metadata": {},
   "outputs": [
    {
     "name": "stdout",
     "output_type": "stream",
     "text": [
      "[0.11, 0.18, 0.24, 0.31, 0.38, 0.44]\n"
     ]
    }
   ],
   "source": [
    "import numpy as np\n",
    "from sklearn.metrics import accuracy_score\n",
    "\n",
    "explore_train_accuracy_score = []\n",
    "explore_validation_accuracy_score = []\n",
    "validation_proportion_list = []\n",
    "\n",
    "def explore_proportion(validation_proportion):\n",
    "    # Split the train and  validation datasets in different proportions\n",
    "    X_train, X_validation, y_train, y_validation = train_test_split(X_remain, y_remain, test_size = validation_proportion, random_state = 3)\n",
    "    \n",
    "    # Train KNN model \n",
    "    knn_1 = KNeighborsClassifier(n_neighbors = 5)\n",
    "    knn_1.fit(X_train, y_train)\n",
    "\n",
    "    # How the model performs on the train and validation datasets\n",
    "    y_train_pred = knn_1.predict(X_train) \n",
    "    train_explore_accuracy = round(accuracy_score(y_train,y_train_pred)*100,2)   \n",
    "    y_validation_pred = knn_1.predict(X_validation) \n",
    "    validation_explore_accuracy = round(accuracy_score(y_validation,y_validation_pred)*100,2)\n",
    "\n",
    "    # Use accuracy metrics to assess performance\n",
    "    explore_train_accuracy_score.append(train_explore_accuracy)\n",
    "    explore_validation_accuracy_score.append(validation_explore_accuracy)\n",
    "\n",
    "# Change the proportion of the validation dataset\n",
    "for validation_proportion in np.arange(1/9,1/2,1/15):\n",
    "    validation_proportion_list.append(round(validation_proportion,2))\n",
    "    explore_proportion(validation_proportion)\n",
    "    \n",
    "print(validation_proportion_list)"
   ]
  },
  {
   "cell_type": "markdown",
   "metadata": {},
   "source": [
    "### print the data"
   ]
  },
  {
   "cell_type": "code",
   "execution_count": 171,
   "metadata": {},
   "outputs": [
    {
     "data": {
      "text/html": [
       "<div>\n",
       "<style scoped>\n",
       "    .dataframe tbody tr th:only-of-type {\n",
       "        vertical-align: middle;\n",
       "    }\n",
       "\n",
       "    .dataframe tbody tr th {\n",
       "        vertical-align: top;\n",
       "    }\n",
       "\n",
       "    .dataframe thead th {\n",
       "        text-align: right;\n",
       "    }\n",
       "</style>\n",
       "<table border=\"1\" class=\"dataframe\">\n",
       "  <thead>\n",
       "    <tr style=\"text-align: right;\">\n",
       "      <th></th>\n",
       "      <th>train_proportion</th>\n",
       "      <th>validation_proportion</th>\n",
       "      <th>train_validation_ratio</th>\n",
       "      <th>train_accuracy_score</th>\n",
       "      <th>validation_accuracy_score</th>\n",
       "    </tr>\n",
       "  </thead>\n",
       "  <tbody>\n",
       "    <tr>\n",
       "      <th>0</th>\n",
       "      <td>0.89</td>\n",
       "      <td>0.11</td>\n",
       "      <td>8.1</td>\n",
       "      <td>78.47</td>\n",
       "      <td>72.83</td>\n",
       "    </tr>\n",
       "    <tr>\n",
       "      <th>1</th>\n",
       "      <td>0.82</td>\n",
       "      <td>0.18</td>\n",
       "      <td>4.6</td>\n",
       "      <td>77.91</td>\n",
       "      <td>74.15</td>\n",
       "    </tr>\n",
       "    <tr>\n",
       "      <th>2</th>\n",
       "      <td>0.76</td>\n",
       "      <td>0.24</td>\n",
       "      <td>3.2</td>\n",
       "      <td>77.08</td>\n",
       "      <td>73.76</td>\n",
       "    </tr>\n",
       "    <tr>\n",
       "      <th>3</th>\n",
       "      <td>0.69</td>\n",
       "      <td>0.31</td>\n",
       "      <td>2.2</td>\n",
       "      <td>76.10</td>\n",
       "      <td>71.60</td>\n",
       "    </tr>\n",
       "    <tr>\n",
       "      <th>4</th>\n",
       "      <td>0.62</td>\n",
       "      <td>0.38</td>\n",
       "      <td>1.6</td>\n",
       "      <td>76.02</td>\n",
       "      <td>69.97</td>\n",
       "    </tr>\n",
       "    <tr>\n",
       "      <th>5</th>\n",
       "      <td>0.56</td>\n",
       "      <td>0.44</td>\n",
       "      <td>1.3</td>\n",
       "      <td>75.98</td>\n",
       "      <td>69.57</td>\n",
       "    </tr>\n",
       "  </tbody>\n",
       "</table>\n",
       "</div>"
      ],
      "text/plain": [
       "   train_proportion  validation_proportion  train_validation_ratio  \\\n",
       "0              0.89                   0.11                     8.1   \n",
       "1              0.82                   0.18                     4.6   \n",
       "2              0.76                   0.24                     3.2   \n",
       "3              0.69                   0.31                     2.2   \n",
       "4              0.62                   0.38                     1.6   \n",
       "5              0.56                   0.44                     1.3   \n",
       "\n",
       "   train_accuracy_score  validation_accuracy_score  \n",
       "0                 78.47                      72.83  \n",
       "1                 77.91                      74.15  \n",
       "2                 77.08                      73.76  \n",
       "3                 76.10                      71.60  \n",
       "4                 76.02                      69.97  \n",
       "5                 75.98                      69.57  "
      ]
     },
     "execution_count": 171,
     "metadata": {},
     "output_type": "execute_result"
    }
   ],
   "source": [
    "\n",
    "train_proportion_list = list(map(lambda x:1-x,validation_proportion_list))\n",
    "# print(train_proportion_list)\n",
    "# print(validation_proportion_list)\n",
    "# print(explore_train_accuracy_score)\n",
    "# print(explore_validation_accuracy_score)\n",
    "\n",
    "train_validataion_ratio = [round(a / b,1) for a,b in zip(train_proportion_list,validation_proportion_list)]\n",
    "\n",
    "df = pd.DataFrame({'train_proportion':train_proportion_list, \n",
    "                   'validation_proportion':validation_proportion_list,\n",
    "                   'train_validation_ratio':train_validataion_ratio,\n",
    "                   'train_accuracy_score':explore_train_accuracy_score,\n",
    "                   'validation_accuracy_score':explore_validation_accuracy_score\n",
    "                   })\n",
    "\n",
    "df\n"
   ]
  },
  {
   "cell_type": "markdown",
   "metadata": {},
   "source": [
    "### Line graph\n",
    "I plot the `Accuracy score on train and validation datasets` line graph. As the amount of data used to train the model increases, the accuracy score for the train dataset increases, and the accuracy score for the validation dataset increases first and begins to decrease when the ratio of train/validation datasets exceeds 4.6."
   ]
  },
  {
   "cell_type": "code",
   "execution_count": 172,
   "metadata": {},
   "outputs": [
    {
     "data": {
      "image/png": "[encoded data removed]",
      "text/plain": [
       "<Figure size 864x360 with 1 Axes>"
      ]
     },
     "metadata": {
      "needs_background": "light"
     },
     "output_type": "display_data"
    }
   ],
   "source": [
    "import matplotlib.pyplot as plt\n",
    "\n",
    "plt.figure(figsize=(12,5))\n",
    "plt.plot(train_validataion_ratio, explore_train_accuracy_score,marker = \"o\",markerfacecolor = \"green\", \n",
    "         linestyle = \"dashed\" ,color = \"red\",markersize = 5)\n",
    "plt.plot(train_validataion_ratio, explore_validation_accuracy_score,marker = \"o\",markerfacecolor = \"green\", \n",
    "         linestyle = \"dashed\" ,color = \"blue\",markersize = 5)\n",
    "\n",
    "plt.title('Accuracy score on train and validation datasets as ratio changes')\n",
    "plt.xticks(list(map(lambda x:round(x,1),train_validataion_ratio)))\n",
    "plt.xlabel('Train/Validation Ratio')\n",
    "plt.ylabel('Accuracy Score')\n",
    "plt.show()"
   ]
  },
  {
   "cell_type": "markdown",
   "metadata": {},
   "source": [
    "## Question 2: Train, tune and test KNN model.\n",
    "Explore how the performance of KNN model varies on both the train and the validation data change as I vary the hyperparameter K."
   ]
  },
  {
   "cell_type": "markdown",
   "metadata": {},
   "source": [
    "From the Question 1 I explored above, when train/validatoin datasets ratio is 4.6 (Except the test dataset, the train dataset counts 72% of the remainder dataset, validation dataset counts 18% of the remainder dataset), accuracy score is higher than other ratios. So for question 2, I choose the ratio to tune the hyperparameter k and try to find the best k based on the accuracy score for validation dataset. Finally, I plot the line graph for the accuracy score of train and validation dataset as I vary the value of hyperparameter K."
   ]
  },
  {
   "cell_type": "code",
   "execution_count": 173,
   "metadata": {},
   "outputs": [
    {
     "data": {
      "image/png": "[encoded data removed]",
      "text/plain": [
       "<Figure size 864x360 with 1 Axes>"
      ]
     },
     "metadata": {
      "needs_background": "light"
     },
     "output_type": "display_data"
    }
   ],
   "source": [
    "from sklearn.neighbors import KNeighborsClassifier\n",
    "\n",
    "X_train, X_validation, y_train, y_validation = train_test_split(X_remain, y_remain, test_size = 0.18,random_state = 0)\n",
    "\n",
    "\n",
    "# Set k to an odd value in the binary classification to avoid ties. \n",
    "k_range = list(range(1,30,2))\n",
    "# Use a list to store how the accuracy socore varis as the k changes.\n",
    "k_list = []\n",
    "Q2_train_accuracy_score = []\n",
    "Q2_validation_accuracy_score = []\n",
    "\n",
    "# Train KNN model and tune the hyperparameter K\n",
    "for k in k_range:\n",
    "    \n",
    "    knn_2 = KNeighborsClassifier(n_neighbors = k)\n",
    "    knn_2.fit(X_train, y_train)\n",
    "    \n",
    "    y_train_pred = knn_2.predict(X_train) \n",
    "    y_validation_pred = knn_2.predict(X_validation) \n",
    "    \n",
    "    Q2_train_explore_accuracy = round(accuracy_score(y_train,y_train_pred)*100,2)   \n",
    "    Q2_validation_explore_accuracy = round(accuracy_score(y_validation,y_validation_pred)*100,2)\n",
    "    \n",
    "    Q2_train_accuracy_score.append(Q2_train_explore_accuracy)\n",
    "    Q2_validation_accuracy_score.append(Q2_validation_explore_accuracy)\n",
    "    k_list.append(k)\n",
    "\n",
    "    \n",
    "\n",
    "plt.figure(figsize=(12,5))\n",
    "\n",
    "plt.plot(k_list, Q2_train_accuracy_score,marker = \"o\",markerfacecolor = \"green\", \n",
    "         linestyle = \"dashed\" ,color = \"red\",markersize = 5)\n",
    "plt.plot(k_list, Q2_validation_accuracy_score,marker = \"o\",markerfacecolor = \"green\", \n",
    "         linestyle = \"dashed\" ,color = \"blue\",markersize = 5)\n",
    "\n",
    "plt.title('Accuracy score on train and validation datasets as K changes')\n",
    "plt.xticks(k_list)\n",
    "plt.xlabel('K')\n",
    "plt.ylabel('Accuracy Score')\n",
    "plt.show()\n",
    "                "
   ]
  },
  {
   "cell_type": "markdown",
   "metadata": {},
   "source": [
    "### Test the KNN model on test dataset\n",
    "I choose the optimal value of the hyperparameter K to be 13 based on the accuracy score of the validation dataset.  when K exceeds 13，the accuracy score of the validation dataset fluctuates in a small range. The accuracy of the model for classification in test dataset is 72.83%."
   ]
  },
  {
   "cell_type": "code",
   "execution_count": 174,
   "metadata": {},
   "outputs": [
    {
     "name": "stdout",
     "output_type": "stream",
     "text": [
      "KNN_2 Test accuracy: 72.83%\n"
     ]
    }
   ],
   "source": [
    "knn_2 = KNeighborsClassifier(n_neighbors = 13)\n",
    "knn_2.fit(X_train, y_train)\n",
    "\n",
    "y_test_pred=knn_2.predict(X_test) \n",
    "test_accuracy = accuracy_score(y_test,y_test_pred)*100\n",
    "print('KNN_2 Test accuracy: %.2f%%' % test_accuracy)"
   ]
  },
  {
   "cell_type": "markdown",
   "metadata": {},
   "source": [
    "## Question 3: Explore Cross Validation\n",
    "In order to get better understanding by using cross validation, I compare the accuracy score of two models trained by two methods for classification on the test dataset (method 1: splitting the train and validation datasets (in Question2) and method 2: using 10-folds cross-validation).\n",
    "\n",
    "\n",
    "I use `GridSearchCV` function from `scikit-learn` library to find the optimal value for hyperparameter K that I tune.\n",
    "There are four parameters I specify in this function: estimator, param_grid, scoring, cv. \n",
    "\n",
    "- estimator:  the model that I train\n",
    "- Parameter `param_grid` to store the possible values for hyperparameter K. This method tries all the value for hyperparameter k, it trained on the train dataset and tune the k on validation dataset and records the model performance (accuracy score). Finally, it returns the optimal KNN model with the optimal value of hyperparameter K. Again, I use accuracy score to assess the performance of the model.\n",
    "\n",
    "- Scoring: I choose `accuracy` to assess the model performance.  \n",
    "\n",
    "- CV: I choose 10-folds cross validation as cross-validation splitting strategy. Here, the dataset is split into 10 folds. In the first iteration, the first fold is used to test the model on validation dataset and the rest are used to train the model. In the second iteration, second fold is used to the test the model while the rest of dataset serves as the train dataset. This process is repeated until each fold of the 10 folds have been used as the validation dataset to test the model. Then the 10 estimates for model performance are derived. The average of 10 estimates for model performance model performance is  the estimates for model performance."
   ]
  },
  {
   "cell_type": "code",
   "execution_count": 175,
   "metadata": {},
   "outputs": [
    {
     "name": "stdout",
     "output_type": "stream",
     "text": [
      "best hyperparameters {'n_neighbors': 11}\n",
      "accuracy_score : 0.7155\n"
     ]
    }
   ],
   "source": [
    "from sklearn.model_selection import GridSearchCV\n",
    "\n",
    "# Hyperparameter K\n",
    "k_range = list(range(1,31,2))\n",
    "param_dict = dict(n_neighbors = k_range)\n",
    "\n",
    "#Create KNN classiifier\n",
    "knn_3 = KNeighborsClassifier()\n",
    "\n",
    "#Use 10 fold cross-validation, use accuracy to evaluate the performance of the model on the validation set\n",
    "grid = GridSearchCV(estimator = knn_3, param_grid = param_dict, scoring = 'accuracy', cv = 10) \n",
    "\n",
    "#Fit the model (remain dataset includes train and validation dataset that I split before.)\n",
    "best_model = grid.fit(X_remain,y_remain) \n",
    "\n",
    "#Print the value of best hyperparameters and best accuracy score\n",
    "print('best hyperparameters', best_model.best_params_)\n",
    "print('accuracy_score : %.4f' % best_model.best_score_ )"
   ]
  },
  {
   "cell_type": "markdown",
   "metadata": {},
   "source": [
    "### Test KNN_3 on test dataset\n",
    "The classification accuracy of KNN_3 is 76.09%, which is better than KNN_2, which is 72.83%."
   ]
  },
  {
   "cell_type": "code",
   "execution_count": 176,
   "metadata": {},
   "outputs": [
    {
     "name": "stdout",
     "output_type": "stream",
     "text": [
      "KNN_3 Test accuracy: 76.09%\n"
     ]
    }
   ],
   "source": [
    "y_test_pred=best_model.predict(X_test) \n",
    "test_accuracy = accuracy_score(y_test,y_test_pred)*100\n",
    "print('KNN_3 Test accuracy: %.2f%%' % test_accuracy)"
   ]
  },
  {
   "cell_type": "markdown",
   "metadata": {},
   "source": [
    "## Qestion 4: Improve KNN performance"
   ]
  },
  {
   "cell_type": "markdown",
   "metadata": {},
   "source": [
    "In order to improve the classification accuracy of this KNN model, first, I scale the features in the heart disease dataset to the same scaleand tune more hyperparameters(K,P,Weights)\n",
    "### Feature Scaling\n",
    "I use Data Standardization method to resclae the attributes so that they have mean as 0 and variance as 1, this can bring down all the features to a common scale without distorting the differences in the range of the values. I have imported `standard scaler` from `scikit-learn` library. I call fit_transform() method on our training and validation dataset and transform() method on the test dataset.\n",
    "\n",
    "### Hyperparameters tuning\n",
    "- k: The number of nearest neighbors.\n",
    "- P: Choice of distance measure. When p = 1, this is equivalent to using manhattan_distance, and euclidean_distance for p = 2. For arbitrary p (eg. p=3), minkowski_distance is used.\n",
    "\n",
    "- Weights: Weighting of the distance measure.\n",
    "‘uniform’ : uniform weights. All points in each neighborhood are weighted equally.\n",
    "‘distance’ : weight points by the inverse of their distance. in this case, closer neighbors of a query point will have a greater influence than neighbors which are further away."
   ]
  },
  {
   "cell_type": "markdown",
   "metadata": {},
   "source": [
    "After use Standaization, The accuracy increases."
   ]
  },
  {
   "cell_type": "code",
   "execution_count": 177,
   "metadata": {},
   "outputs": [],
   "source": [
    "from sklearn.preprocessing import StandardScaler\n",
    "\n",
    "sc_x=StandardScaler()\n",
    "X_train = sc_x.fit_transform(X_train)\n",
    "X_valid = sc_x.fit_transform(X_valid)\n",
    "X_test=sc_x.transform(X_test)"
   ]
  },
  {
   "cell_type": "code",
   "execution_count": 178,
   "metadata": {},
   "outputs": [
    {
     "name": "stdout",
     "output_type": "stream",
     "text": [
      "best hyperparameters {'n_neighbors': 15, 'p': 1, 'weights': 'distance'}\n",
      "accuracy_score : 0.7627\n"
     ]
    }
   ],
   "source": [
    "from sklearn.model_selection import GridSearchCV\n",
    "\n",
    "# Hyperparameters that we want to tune.\n",
    "k_range = list(range(3,31,2))\n",
    "weight_options = [\"uniform\", \"distance\"]\n",
    "p_options=[1,2,3]\n",
    "\n",
    "param_dict = dict(n_neighbors = k_range, weights = weight_options, p = p_options)\n",
    "\n",
    "#Create KNN classiifier\n",
    "knn_4 = KNeighborsClassifier()\n",
    "\n",
    "#Use 5 fold cross-validation, use accuracy to evaluate the performance of the model on the validation set\n",
    "grid = GridSearchCV(estimator = knn_4, param_grid = param_dict, scoring = 'accuracy', cv = 10) \n",
    "\n",
    "#Fit the model (remain dataset includes train and validation dataset that I split before.)\n",
    "best_model = grid.fit(X_remain,y_remain) \n",
    "\n",
    "#Print the value of best hyperparameters and best accuracy score\n",
    "print('best hyperparameters', best_model.best_params_)\n",
    "print('accuracy_score : %.4f' % best_model.best_score_ )"
   ]
  },
  {
   "cell_type": "markdown",
   "metadata": {},
   "source": [
    "### Test the model\n",
    "After feature scaling and hyperparameters tuning, the classification accuracy improves at 88.04%, which is better than KNN_3(76.09%)"
   ]
  },
  {
   "cell_type": "code",
   "execution_count": 186,
   "metadata": {},
   "outputs": [
    {
     "name": "stdout",
     "output_type": "stream",
     "text": [
      "KNN_4 Test accuracy: 88.04%\n"
     ]
    }
   ],
   "source": [
    "from sklearn.metrics import accuracy_score\n",
    "\n",
    "y_test_pred = best_model.predict(X_test) \n",
    "test_accuracy = accuracy_score(y_test,y_test_pred)*100\n",
    "\n",
    "print('KNN_4 Test accuracy: %.2f%%' % test_accuracy)"
   ]
  }
 ],
 "metadata": {
  "interpreter": {
   "hash": "6d4b19282c4f1a35886decbca8caed4edeb52dcc9663281933ed3bb3d17a686d"
  },
  "kernelspec": {
   "display_name": "Python 3.8.8 64-bit ('base': conda)",
   "language": "python",
   "name": "python3"
  },
  "language_info": {
   "codemirror_mode": {
    "name": "ipython",
    "version": 3
   },
   "file_extension": ".py",
   "mimetype": "text/x-python",
   "name": "python",
   "nbconvert_exporter": "python",
   "pygments_lexer": "ipython3",
   "version": "3.8.8"
  },
  "orig_nbformat": 4
 },
 "nbformat": 4,
 "nbformat_minor": 2
}
